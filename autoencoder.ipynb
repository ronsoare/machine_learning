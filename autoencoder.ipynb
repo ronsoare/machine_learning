{
  "nbformat": 4,
  "nbformat_minor": 0,
  "metadata": {
    "colab": {
      "provenance": [],
      "authorship_tag": "ABX9TyOPwuQPO3pmNaGGJ4qo4YOr",
      "include_colab_link": true
    },
    "kernelspec": {
      "name": "python3",
      "display_name": "Python 3"
    },
    "language_info": {
      "name": "python"
    }
  },
  "cells": [
    {
      "cell_type": "markdown",
      "metadata": {
        "id": "view-in-github",
        "colab_type": "text"
      },
      "source": [
        "<a href=\"https://colab.research.google.com/github/nars95/machine_learning/blob/main/autoencoder.ipynb\" target=\"_parent\"><img src=\"https://colab.research.google.com/assets/colab-badge.svg\" alt=\"Open In Colab\"/></a>"
      ]
    },
    {
      "cell_type": "markdown",
      "source": [
        "Import librarys that we'll use in our task"
      ],
      "metadata": {
        "id": "iaqeYLe83ME0"
      }
    },
    {
      "cell_type": "code",
      "execution_count": 2,
      "metadata": {
        "id": "Rghmb3YwnvMp"
      },
      "outputs": [],
      "source": [
        "import pandas as pd\n",
        "import numpy as np\n",
        "import matplotlib.pyplot as plt\n",
        "import tensorflow as tf\n",
        "from tensorflow import keras\n",
        "from keras.datasets import mnist\n",
        "from keras.models import Sequential\n",
        "from keras.layers import InputLayer, Dense\n",
        "from sklearn.model_selection import train_test_split"
      ]
    },
    {
      "cell_type": "code",
      "source": [
        "train, test = mnist.load_data()"
      ],
      "metadata": {
        "id": "f3BRLKXboSIZ"
      },
      "execution_count": 27,
      "outputs": []
    },
    {
      "cell_type": "markdown",
      "source": [
        "# load the data"
      ],
      "metadata": {
        "id": "hxm1fO0b3UIK"
      }
    },
    {
      "cell_type": "code",
      "source": [
        "# split the data\n",
        "data = train[0]\n",
        "y = train[1]\n",
        "X_test = test[0]\n",
        "y_test = test[1]\n",
        "\n",
        "# int to float\n",
        "data = data.astype(float)\n",
        "X_test = X_test.astype(float)\n",
        "\n",
        "# normalize the data\n",
        "\n",
        "data = data / 255.0\n",
        "X_test = X_test / 255.0"
      ],
      "metadata": {
        "id": "8J3zggOvo3j_"
      },
      "execution_count": 30,
      "outputs": []
    },
    {
      "cell_type": "code",
      "source": [
        "print(data.shape, X_test.shape)"
      ],
      "metadata": {
        "colab": {
          "base_uri": "https://localhost:8080/"
        },
        "id": "Woiu0XZvoWZz",
        "outputId": "d86316f6-98a1-45b2-aa25-b238314da0eb"
      },
      "execution_count": 31,
      "outputs": [
        {
          "output_type": "stream",
          "name": "stdout",
          "text": [
            "(60000, 28, 28) (10000, 28, 28)\n"
          ]
        }
      ]
    },
    {
      "cell_type": "code",
      "source": [
        "print(data.shape, y.shape)"
      ],
      "metadata": {
        "colab": {
          "base_uri": "https://localhost:8080/"
        },
        "id": "Ad6jekFmoKMu",
        "outputId": "eb16a86a-a546-4c25-8f83-28e2772848f5"
      },
      "execution_count": 32,
      "outputs": [
        {
          "output_type": "stream",
          "name": "stdout",
          "text": [
            "(60000, 28, 28) (60000,)\n"
          ]
        }
      ]
    },
    {
      "cell_type": "markdown",
      "source": [
        "Split the data into train and validation"
      ],
      "metadata": {
        "id": "dM3geKWC3X7w"
      }
    },
    {
      "cell_type": "code",
      "source": [
        "X_train, X_val, y_train, y_val = train_test_split(data, y, train_size=0.8, random_state=42)\n",
        "print(X_train.shape, X_val.shape)"
      ],
      "metadata": {
        "colab": {
          "base_uri": "https://localhost:8080/"
        },
        "id": "oqX-Vrbep88I",
        "outputId": "8db025f7-97da-4591-fc60-101237c6f768"
      },
      "execution_count": 33,
      "outputs": [
        {
          "output_type": "stream",
          "name": "stdout",
          "text": [
            "(48000, 28, 28) (12000, 28, 28)\n"
          ]
        }
      ]
    },
    {
      "cell_type": "markdown",
      "source": [
        "Build our model autoencode.Note that this model is compose of two components:\n",
        "1. encoder: this part of our model is need to code the information\n",
        "2. decoder: and this is the part that will reconstruction the information. The output this part is necessary to be the same dimension of the input."
      ],
      "metadata": {
        "id": "6I1gN86g3btN"
      }
    },
    {
      "cell_type": "code",
      "source": [
        "#build the simple autoencoder\n",
        "\n",
        "encoder = keras.models.Sequential([\n",
        "    keras.layers.Flatten(input_shape=(28, 28)),\n",
        "    keras.layers.Dense(100, activation='selu'),\n",
        "    keras.layers.Dense(30, activation='selu')\n",
        "])\n",
        "\n",
        "decoder = keras.models.Sequential([\n",
        "    keras.layers.Dense(100, activation='selu', input_shape=(30,)),\n",
        "    keras.layers.Dense((28*28), activation='sigmoid'),\n",
        "    keras.layers.Reshape((28, 28))\n",
        "])\n",
        "autoencoder = keras.models.Sequential([encoder, decoder])"
      ],
      "metadata": {
        "id": "Vbf8Q0CrqL0E"
      },
      "execution_count": 35,
      "outputs": []
    },
    {
      "cell_type": "markdown",
      "source": [
        "Compiling and training the model. Instead pass X_train and y_train, we pass X_train with data and X_train as the labels. This is the simple diference."
      ],
      "metadata": {
        "id": "qF6eTZYc4ETM"
      }
    },
    {
      "cell_type": "code",
      "source": [
        "autoencoder.compile(loss='binary_crossentropy', optimizer=keras.optimizers.SGD( learning_rate=1.5))\n",
        "history = autoencoder.fit(X_train, X_train, epochs=20, validation_data=(X_val,X_val))"
      ],
      "metadata": {
        "colab": {
          "base_uri": "https://localhost:8080/"
        },
        "id": "jBNrv7c7qTMw",
        "outputId": "d8127c63-0d41-4846-d507-239d9acef229"
      },
      "execution_count": 76,
      "outputs": [
        {
          "output_type": "stream",
          "name": "stdout",
          "text": [
            "Epoch 1/20\n",
            "1500/1500 [==============================] - 9s 6ms/step - loss: 0.1762 - val_loss: 0.1430\n",
            "Epoch 2/20\n",
            "1500/1500 [==============================] - 8s 5ms/step - loss: 0.1329 - val_loss: 0.1262\n",
            "Epoch 3/20\n",
            "1500/1500 [==============================] - 9s 6ms/step - loss: 0.1224 - val_loss: 0.1187\n",
            "Epoch 4/20\n",
            "1500/1500 [==============================] - 8s 5ms/step - loss: 0.1178 - val_loss: 0.1176\n",
            "Epoch 5/20\n",
            "1500/1500 [==============================] - 9s 6ms/step - loss: 0.1154 - val_loss: 0.1157\n",
            "Epoch 6/20\n",
            "1500/1500 [==============================] - 9s 6ms/step - loss: 0.1135 - val_loss: 0.1125\n",
            "Epoch 7/20\n",
            "1500/1500 [==============================] - 7s 5ms/step - loss: 0.1118 - val_loss: 0.1151\n",
            "Epoch 8/20\n",
            "1500/1500 [==============================] - 9s 6ms/step - loss: 0.1100 - val_loss: 0.1094\n",
            "Epoch 9/20\n",
            "1500/1500 [==============================] - 9s 6ms/step - loss: 0.1073 - val_loss: 0.1064\n",
            "Epoch 10/20\n",
            "1500/1500 [==============================] - 8s 5ms/step - loss: 0.1053 - val_loss: 0.1068\n",
            "Epoch 11/20\n",
            "1500/1500 [==============================] - 9s 6ms/step - loss: 0.1040 - val_loss: 0.1041\n",
            "Epoch 12/20\n",
            "1500/1500 [==============================] - 9s 6ms/step - loss: 0.1027 - val_loss: 0.1019\n",
            "Epoch 13/20\n",
            "1500/1500 [==============================] - 8s 5ms/step - loss: 0.1013 - val_loss: 0.1004\n",
            "Epoch 14/20\n",
            "1500/1500 [==============================] - 9s 6ms/step - loss: 0.0999 - val_loss: 0.0995\n",
            "Epoch 15/20\n",
            "1500/1500 [==============================] - 8s 5ms/step - loss: 0.0989 - val_loss: 0.0984\n",
            "Epoch 16/20\n",
            "1500/1500 [==============================] - 8s 5ms/step - loss: 0.0980 - val_loss: 0.0977\n",
            "Epoch 17/20\n",
            "1500/1500 [==============================] - 9s 6ms/step - loss: 0.0974 - val_loss: 0.0977\n",
            "Epoch 18/20\n",
            "1500/1500 [==============================] - 8s 5ms/step - loss: 0.0969 - val_loss: 0.0971\n",
            "Epoch 19/20\n",
            "1500/1500 [==============================] - 8s 6ms/step - loss: 0.0964 - val_loss: 0.0969\n",
            "Epoch 20/20\n",
            "1500/1500 [==============================] - 9s 6ms/step - loss: 0.0961 - val_loss: 0.0961\n"
          ]
        }
      ]
    },
    {
      "cell_type": "code",
      "source": [
        "np.average(history.history['loss'])"
      ],
      "metadata": {
        "colab": {
          "base_uri": "https://localhost:8080/"
        },
        "id": "zxmDVaY_uW5Y",
        "outputId": "0be30dd7-3af8-447e-f956-41f50a5f9afa"
      },
      "execution_count": 77,
      "outputs": [
        {
          "output_type": "execute_result",
          "data": {
            "text/plain": [
              "0.11021093837916851"
            ]
          },
          "metadata": {},
          "execution_count": 77
        }
      ]
    },
    {
      "cell_type": "markdown",
      "source": [
        "Let's take a look if our model has learned how to recosntruction our data"
      ],
      "metadata": {
        "id": "ErGoPuJS4h7h"
      }
    },
    {
      "cell_type": "code",
      "source": [
        "def plot_image(image):\n",
        "  plt.imshow(image, cmap='binary')\n",
        "  plt.axis('off')\n",
        "\n",
        "def show_reconstructions(model, n_images = 5):\n",
        "  reconstructions = model.predict(X_val[:n_images])\n",
        "  fig = plt.figure(figsize=(n_images*1.5, 3))\n",
        "  for image_index in range(n_images):\n",
        "    plt.subplot(2, n_images, 1+image_index)\n",
        "    plot_image(X_val[image_index])\n",
        "    plt.subplot(2, n_images, 1 + n_images + image_index)\n",
        "    plot_image(reconstructions[image_index])"
      ],
      "metadata": {
        "id": "vhDNuOQxz1OY"
      },
      "execution_count": 89,
      "outputs": []
    },
    {
      "cell_type": "code",
      "source": [
        "show_reconstructions(autoencoder)"
      ],
      "metadata": {
        "colab": {
          "base_uri": "https://localhost:8080/",
          "height": 281
        },
        "id": "kqltg2sY2wA1",
        "outputId": "67e08cc6-afe0-492e-a5b1-8bf5275af8f6"
      },
      "execution_count": 90,
      "outputs": [
        {
          "output_type": "stream",
          "name": "stdout",
          "text": [
            "1/1 [==============================] - 0s 31ms/step\n"
          ]
        },
        {
          "output_type": "display_data",
          "data": {
            "text/plain": [
              "<Figure size 750x300 with 10 Axes>"
            ],
            "image/png": "[encoded data removed]"
          },
          "metadata": {}
        }
      ]
    }
  ]
}