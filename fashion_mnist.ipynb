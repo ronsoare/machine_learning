{
  "nbformat": 4,
  "nbformat_minor": 0,
  "metadata": {
    "colab": {
      "provenance": [],
      "gpuType": "T4",
      "authorship_tag": "ABX9TyMsxojrGgkCEt4kBeOTJy/u",
      "include_colab_link": true
    },
    "kernelspec": {
      "name": "python3",
      "display_name": "Python 3"
    },
    "language_info": {
      "name": "python"
    },
    "accelerator": "GPU"
  },
  "cells": [
    {
      "cell_type": "markdown",
      "metadata": {
        "id": "view-in-github",
        "colab_type": "text"
      },
      "source": [
        "<a href=\"https://colab.research.google.com/github/nars95/machine_learning/blob/main/fashion_mnist.ipynb\" target=\"_parent\"><img src=\"https://colab.research.google.com/assets/colab-badge.svg\" alt=\"Open In Colab\"/></a>"
      ]
    },
    {
      "cell_type": "code",
      "execution_count": 27,
      "metadata": {
        "id": "cwp1hMzrCqMJ"
      },
      "outputs": [],
      "source": [
        "import tensorflow as tf\n",
        "from tensorflow import keras\n",
        "from keras.datasets import fashion_mnist\n",
        "import matplotlib.pyplot as plt\n",
        "import numpy as np\n",
        "import pandas as pd"
      ]
    },
    {
      "cell_type": "code",
      "source": [
        "print('tensorflow = {} e keras api = {}'.format(tf.__version__, keras.__version__))"
      ],
      "metadata": {
        "colab": {
          "base_uri": "https://localhost:8080/"
        },
        "id": "p7DDSSvmC2wE",
        "outputId": "ad8278ed-2d25-44f4-dcb9-72f937f41a2b"
      },
      "execution_count": 3,
      "outputs": [
        {
          "output_type": "stream",
          "name": "stdout",
          "text": [
            "tensorflow = 2.12.0 e keras api = 2.12.0\n"
          ]
        }
      ]
    },
    {
      "cell_type": "code",
      "source": [
        "(x_train_full, y_train_full), (X_test, y_test) =  fashion_mnist.load_data()"
      ],
      "metadata": {
        "id": "9lj8gBsTDKCf"
      },
      "execution_count": 36,
      "outputs": []
    },
    {
      "cell_type": "code",
      "source": [
        "print(x_train_full.shape, x_train_full.dtype)"
      ],
      "metadata": {
        "colab": {
          "base_uri": "https://localhost:8080/"
        },
        "id": "KOYjFVJyDl6S",
        "outputId": "f19e649b-240b-458a-8b42-bc48c2df48ad"
      },
      "execution_count": 5,
      "outputs": [
        {
          "output_type": "stream",
          "name": "stdout",
          "text": [
            "(60000, 28, 28) uint8\n"
          ]
        }
      ]
    },
    {
      "cell_type": "code",
      "source": [
        "X_val, X_train = x_train_full[:5000] / 255.0, x_train_full[5000:] / 255.0\n",
        "y_val, y_train = y_train_full[:5000], y_train_full[5000:]\n",
        "X_test = X_test / 255.0\n",
        "print(X_train.shape, X_train.dtype)"
      ],
      "metadata": {
        "colab": {
          "base_uri": "https://localhost:8080/"
        },
        "id": "pQm2hrBDD0RH",
        "outputId": "303edf90-8c6a-49db-9c68-32da07c3b0ef"
      },
      "execution_count": 38,
      "outputs": [
        {
          "output_type": "stream",
          "name": "stdout",
          "text": [
            "(55000, 28, 28) float64\n"
          ]
        }
      ]
    },
    {
      "cell_type": "code",
      "source": [
        "class_name = [\"T-shirt/top\", \"Trouser\", \"Pullover\", \"Dress\", \"Coat\",\n",
        "              \"Sandal\", \"Shirt\", \"Sneaker\", \"Bag\", \"Ankle boot\"]\n",
        "\n",
        "print(y_train[100])\n",
        "print(class_name[y_train[100]])"
      ],
      "metadata": {
        "colab": {
          "base_uri": "https://localhost:8080/"
        },
        "id": "6QgXwt4DFNWC",
        "outputId": "aaeeb8d5-0948-4603-9706-e37bf3942722"
      },
      "execution_count": 7,
      "outputs": [
        {
          "output_type": "stream",
          "name": "stdout",
          "text": [
            "2\n",
            "Pullover\n"
          ]
        }
      ]
    },
    {
      "cell_type": "code",
      "source": [
        "img = X_train[100]\n",
        "plt.imshow(img, cmap='gray')\n",
        "plt.show();"
      ],
      "metadata": {
        "colab": {
          "base_uri": "https://localhost:8080/",
          "height": 430
        },
        "id": "DkzSfAP2EZ37",
        "outputId": "5b9ee2ce-d88d-4c45-d959-93ac3c5427d6"
      },
      "execution_count": 8,
      "outputs": [
        {
          "output_type": "display_data",
          "data": {
            "text/plain": [
              "<Figure size 640x480 with 1 Axes>"
            ],
            "image/png": "[encoded data removed]"
          },
          "metadata": {}
        }
      ]
    },
    {
      "cell_type": "markdown",
      "source": [
        "#Treinando um modelo para reconhecer as imagens do fashion_mnist usando Api Sequential do keras."
      ],
      "metadata": {
        "id": "8TwpLKT6GWdt"
      }
    },
    {
      "cell_type": "code",
      "source": [
        "model = keras.models.Sequential()\n",
        "model.add(keras.layers.Flatten(input_shape=[28, 28]))\n",
        "model.add(keras.layers.Dense(300, activation='relu'))\n",
        "model.add(keras.layers.Dense(100, activation='relu'))\n",
        "model.add(keras.layers.Dense(10, activation='softmax'))"
      ],
      "metadata": {
        "id": "IzYqQwWuGfHZ"
      },
      "execution_count": 9,
      "outputs": []
    },
    {
      "cell_type": "code",
      "source": [
        "model.summary()"
      ],
      "metadata": {
        "colab": {
          "base_uri": "https://localhost:8080/"
        },
        "id": "t-X3lOKNHGRo",
        "outputId": "60f57926-e047-4ea5-bf11-6deab4536ded"
      },
      "execution_count": 10,
      "outputs": [
        {
          "output_type": "stream",
          "name": "stdout",
          "text": [
            "Model: \"sequential\"\n",
            "_________________________________________________________________\n",
            " Layer (type)                Output Shape              Param #   \n",
            "=================================================================\n",
            " flatten (Flatten)           (None, 784)               0         \n",
            "                                                                 \n",
            " dense (Dense)               (None, 300)               235500    \n",
            "                                                                 \n",
            " dense_1 (Dense)             (None, 100)               30100     \n",
            "                                                                 \n",
            " dense_2 (Dense)             (None, 10)                1010      \n",
            "                                                                 \n",
            "=================================================================\n",
            "Total params: 266,610\n",
            "Trainable params: 266,610\n",
            "Non-trainable params: 0\n",
            "_________________________________________________________________\n"
          ]
        }
      ]
    },
    {
      "cell_type": "code",
      "source": [
        " # gerando uma imagem do modelo\n",
        "img_model = keras.utils.plot_model(model)\n",
        "img_model"
      ],
      "metadata": {
        "colab": {
          "base_uri": "https://localhost:8080/",
          "height": 466
        },
        "id": "PVtpH1VjKdxx",
        "outputId": "0cbe07ab-de2c-4afe-d7f5-2172cfaef485"
      },
      "execution_count": 11,
      "outputs": [
        {
          "output_type": "execute_result",
          "data": {
            "image/png": "[encoded data removed]",
            "text/plain": [
              "<IPython.core.display.Image object>"
            ]
          },
          "metadata": {},
          "execution_count": 11
        }
      ]
    },
    {
      "cell_type": "code",
      "source": [
        "model.layers # camadas do modelo"
      ],
      "metadata": {
        "colab": {
          "base_uri": "https://localhost:8080/"
        },
        "id": "bDddlCoLMmpF",
        "outputId": "319076ec-d3d7-4570-da5e-9398ca12af4b"
      },
      "execution_count": 12,
      "outputs": [
        {
          "output_type": "execute_result",
          "data": {
            "text/plain": [
              "[<keras.layers.reshaping.flatten.Flatten at 0x7fa7b1665330>,\n",
              " <keras.layers.core.dense.Dense at 0x7fa795a0c700>,\n",
              " <keras.layers.core.dense.Dense at 0x7fa795a0d540>,\n",
              " <keras.layers.core.dense.Dense at 0x7fa795a0d570>]"
            ]
          },
          "metadata": {},
          "execution_count": 12
        }
      ]
    },
    {
      "cell_type": "code",
      "source": [
        "hidden1 = model.layers[1]\n",
        "hidden1.name"
      ],
      "metadata": {
        "colab": {
          "base_uri": "https://localhost:8080/",
          "height": 35
        },
        "id": "tJoYOhhBMvG0",
        "outputId": "7cc4182d-49ac-4335-f55a-c533b634be6b"
      },
      "execution_count": 13,
      "outputs": [
        {
          "output_type": "execute_result",
          "data": {
            "text/plain": [
              "'dense'"
            ],
            "application/vnd.google.colaboratory.intrinsic+json": {
              "type": "string"
            }
          },
          "metadata": {},
          "execution_count": 13
        }
      ]
    },
    {
      "cell_type": "code",
      "source": [
        "model.get_layer('dense') is hidden1"
      ],
      "metadata": {
        "colab": {
          "base_uri": "https://localhost:8080/"
        },
        "id": "V3VcbxkGNchP",
        "outputId": "ea9a5849-b12d-48ab-b8c3-e1fe4ebd2192"
      },
      "execution_count": 14,
      "outputs": [
        {
          "output_type": "execute_result",
          "data": {
            "text/plain": [
              "True"
            ]
          },
          "metadata": {},
          "execution_count": 14
        }
      ]
    },
    {
      "cell_type": "markdown",
      "source": [
        "#Acessando os pesos de uma camada Densa: que inclui os pesos de conexão e os vieses de cada neurônio da camada."
      ],
      "metadata": {
        "id": "4mjjEnKON5yz"
      }
    },
    {
      "cell_type": "markdown",
      "source": [
        "Para isso usamos o método o get_weights(). Esse método retorna uma lista com dois elementos: 1) Elemento é uma matriz de pesos do modelo, isto é, a conexação da camada anterior e os neurônios desta camada. 2) Um vetor contendo o vies de cada neurônio da camada, que no caso da hidden1 (dense) é um vetor com 300 vieses. Vamos dar uma olhada nisso:"
      ],
      "metadata": {
        "id": "idv-peElOwn3"
      }
    },
    {
      "cell_type": "code",
      "source": [
        "first, second = hidden1.get_weights()\n",
        "print(first.shape, second.shape)\n"
      ],
      "metadata": {
        "colab": {
          "base_uri": "https://localhost:8080/"
        },
        "id": "rL-7J7qBN4_h",
        "outputId": "c577d034-d4ec-45f0-e360-053aa071ad85"
      },
      "execution_count": 15,
      "outputs": [
        {
          "output_type": "stream",
          "name": "stdout",
          "text": [
            "(784, 300) (300,)\n"
          ]
        }
      ]
    },
    {
      "cell_type": "markdown",
      "source": [
        "#Compilando o modelo"
      ],
      "metadata": {
        "id": "N858ZIkjRi4a"
      }
    },
    {
      "cell_type": "code",
      "source": [
        "from keras.engine.training import optimizer\n",
        "model.compile(loss=\"sparse_categorical_crossentropy\",\n",
        "              optimizer=\"sgd\",\n",
        "              metrics=[\"accuracy\"])"
      ],
      "metadata": {
        "id": "I_tVzSOdRklF"
      },
      "execution_count": 21,
      "outputs": []
    },
    {
      "cell_type": "markdown",
      "source": [
        "#Treinando e avaliando o modelo"
      ],
      "metadata": {
        "id": "xaDxzP6mZiyX"
      }
    },
    {
      "cell_type": "code",
      "source": [
        "history = model.fit(X_train, y_train, epochs=30,\n",
        "                    validation_data=(X_val, y_val))"
      ],
      "metadata": {
        "colab": {
          "base_uri": "https://localhost:8080/"
        },
        "id": "0bvfoBXtR4Zh",
        "outputId": "fbe9f94e-fcc1-4d6a-a0c4-8a82d7ae29b3"
      },
      "execution_count": 22,
      "outputs": [
        {
          "output_type": "stream",
          "name": "stdout",
          "text": [
            "Epoch 1/30\n",
            "1719/1719 [==============================] - 12s 4ms/step - loss: 0.7047 - accuracy: 0.7699 - val_loss: 0.4896 - val_accuracy: 0.8384\n",
            "Epoch 2/30\n",
            "1719/1719 [==============================] - 7s 4ms/step - loss: 0.4837 - accuracy: 0.8312 - val_loss: 0.4541 - val_accuracy: 0.8466\n",
            "Epoch 3/30\n",
            "1719/1719 [==============================] - 8s 5ms/step - loss: 0.4398 - accuracy: 0.8456 - val_loss: 0.4347 - val_accuracy: 0.8448\n",
            "Epoch 4/30\n",
            "1719/1719 [==============================] - 7s 4ms/step - loss: 0.4138 - accuracy: 0.8547 - val_loss: 0.4025 - val_accuracy: 0.8594\n",
            "Epoch 5/30\n",
            "1719/1719 [==============================] - 6s 4ms/step - loss: 0.3935 - accuracy: 0.8614 - val_loss: 0.3846 - val_accuracy: 0.8688\n",
            "Epoch 6/30\n",
            "1719/1719 [==============================] - 7s 4ms/step - loss: 0.3774 - accuracy: 0.8661 - val_loss: 0.3802 - val_accuracy: 0.8706\n",
            "Epoch 7/30\n",
            "1719/1719 [==============================] - 6s 4ms/step - loss: 0.3644 - accuracy: 0.8723 - val_loss: 0.3758 - val_accuracy: 0.8684\n",
            "Epoch 8/30\n",
            "1719/1719 [==============================] - 7s 4ms/step - loss: 0.3534 - accuracy: 0.8758 - val_loss: 0.3781 - val_accuracy: 0.8672\n",
            "Epoch 9/30\n",
            "1719/1719 [==============================] - 6s 3ms/step - loss: 0.3443 - accuracy: 0.8781 - val_loss: 0.3512 - val_accuracy: 0.8742\n",
            "Epoch 10/30\n",
            "1719/1719 [==============================] - 7s 4ms/step - loss: 0.3330 - accuracy: 0.8818 - val_loss: 0.3481 - val_accuracy: 0.8776\n",
            "Epoch 11/30\n",
            "1719/1719 [==============================] - 6s 3ms/step - loss: 0.3248 - accuracy: 0.8836 - val_loss: 0.3348 - val_accuracy: 0.8794\n",
            "Epoch 12/30\n",
            "1719/1719 [==============================] - 7s 4ms/step - loss: 0.3173 - accuracy: 0.8864 - val_loss: 0.3285 - val_accuracy: 0.8818\n",
            "Epoch 13/30\n",
            "1719/1719 [==============================] - 6s 3ms/step - loss: 0.3119 - accuracy: 0.8881 - val_loss: 0.3334 - val_accuracy: 0.8816\n",
            "Epoch 14/30\n",
            "1719/1719 [==============================] - 6s 4ms/step - loss: 0.3035 - accuracy: 0.8925 - val_loss: 0.3206 - val_accuracy: 0.8866\n",
            "Epoch 15/30\n",
            "1719/1719 [==============================] - 6s 3ms/step - loss: 0.2973 - accuracy: 0.8928 - val_loss: 0.3197 - val_accuracy: 0.8892\n",
            "Epoch 16/30\n",
            "1719/1719 [==============================] - 6s 4ms/step - loss: 0.2906 - accuracy: 0.8959 - val_loss: 0.3453 - val_accuracy: 0.8806\n",
            "Epoch 17/30\n",
            "1719/1719 [==============================] - 6s 3ms/step - loss: 0.2858 - accuracy: 0.8969 - val_loss: 0.3072 - val_accuracy: 0.8908\n",
            "Epoch 18/30\n",
            "1719/1719 [==============================] - 7s 4ms/step - loss: 0.2801 - accuracy: 0.8991 - val_loss: 0.3099 - val_accuracy: 0.8880\n",
            "Epoch 19/30\n",
            "1719/1719 [==============================] - 6s 4ms/step - loss: 0.2748 - accuracy: 0.9015 - val_loss: 0.3083 - val_accuracy: 0.8884\n",
            "Epoch 20/30\n",
            "1719/1719 [==============================] - 7s 4ms/step - loss: 0.2711 - accuracy: 0.9020 - val_loss: 0.3087 - val_accuracy: 0.8902\n",
            "Epoch 21/30\n",
            "1719/1719 [==============================] - 6s 3ms/step - loss: 0.2650 - accuracy: 0.9041 - val_loss: 0.3156 - val_accuracy: 0.8848\n",
            "Epoch 22/30\n",
            "1719/1719 [==============================] - 7s 4ms/step - loss: 0.2595 - accuracy: 0.9069 - val_loss: 0.3172 - val_accuracy: 0.8882\n",
            "Epoch 23/30\n",
            "1719/1719 [==============================] - 6s 3ms/step - loss: 0.2552 - accuracy: 0.9078 - val_loss: 0.3061 - val_accuracy: 0.8870\n",
            "Epoch 24/30\n",
            "1719/1719 [==============================] - 7s 4ms/step - loss: 0.2512 - accuracy: 0.9091 - val_loss: 0.3036 - val_accuracy: 0.8854\n",
            "Epoch 25/30\n",
            "1719/1719 [==============================] - 6s 3ms/step - loss: 0.2477 - accuracy: 0.9101 - val_loss: 0.3045 - val_accuracy: 0.8924\n",
            "Epoch 26/30\n",
            "1719/1719 [==============================] - 7s 4ms/step - loss: 0.2429 - accuracy: 0.9119 - val_loss: 0.3089 - val_accuracy: 0.8876\n",
            "Epoch 27/30\n",
            "1719/1719 [==============================] - 6s 3ms/step - loss: 0.2388 - accuracy: 0.9137 - val_loss: 0.2987 - val_accuracy: 0.8954\n",
            "Epoch 28/30\n",
            "1719/1719 [==============================] - 7s 4ms/step - loss: 0.2344 - accuracy: 0.9154 - val_loss: 0.3019 - val_accuracy: 0.8904\n",
            "Epoch 29/30\n",
            "1719/1719 [==============================] - 6s 4ms/step - loss: 0.2305 - accuracy: 0.9172 - val_loss: 0.2951 - val_accuracy: 0.8930\n",
            "Epoch 30/30\n",
            "1719/1719 [==============================] - 7s 4ms/step - loss: 0.2267 - accuracy: 0.9183 - val_loss: 0.3117 - val_accuracy: 0.8922\n"
          ]
        }
      ]
    },
    {
      "cell_type": "markdown",
      "source": [
        "O método .fit() retorna um objeto History que contém alguns atributos importantes: History.epoch (lista de épocas pelos quais passou), History.params (parâmetros de treinamento) e History.history (métricas de acurácia e perda - tanto do treinamento quanto da validação, caso exista.)"
      ],
      "metadata": {
        "id": "4e1Jz3CSctjw"
      }
    },
    {
      "cell_type": "code",
      "source": [
        "metrics = pd.DataFrame(history.history)\n",
        "metrics"
      ],
      "metadata": {
        "colab": {
          "base_uri": "https://localhost:8080/",
          "height": 990
        },
        "id": "0pxjaQsXaPWs",
        "outputId": "f08b4cf3-62b4-49c0-bffa-6f369fdb2489"
      },
      "execution_count": 29,
      "outputs": [
        {
          "output_type": "execute_result",
          "data": {
            "text/plain": [
              "        loss  accuracy  val_loss  val_accuracy\n",
              "0   0.704745  0.769873  0.489602        0.8384\n",
              "1   0.483742  0.831200  0.454127        0.8466\n",
              "2   0.439820  0.845582  0.434732        0.8448\n",
              "3   0.413824  0.854709  0.402483        0.8594\n",
              "4   0.393543  0.861400  0.384644        0.8688\n",
              "5   0.377420  0.866073  0.380165        0.8706\n",
              "6   0.364400  0.872345  0.375838        0.8684\n",
              "7   0.353412  0.875800  0.378117        0.8672\n",
              "8   0.344348  0.878127  0.351166        0.8742\n",
              "9   0.333032  0.881818  0.348063        0.8776\n",
              "10  0.324841  0.883564  0.334782        0.8794\n",
              "11  0.317310  0.886400  0.328463        0.8818\n",
              "12  0.311871  0.888109  0.333389        0.8816\n",
              "13  0.303509  0.892491  0.320590        0.8866\n",
              "14  0.297308  0.892836  0.319746        0.8892\n",
              "15  0.290576  0.895891  0.345258        0.8806\n",
              "16  0.285760  0.896945  0.307190        0.8908\n",
              "17  0.280065  0.899073  0.309915        0.8880\n",
              "18  0.274784  0.901491  0.308255        0.8884\n",
              "19  0.271145  0.901964  0.308727        0.8902\n",
              "20  0.265016  0.904145  0.315611        0.8848\n",
              "21  0.259539  0.906927  0.317161        0.8882\n",
              "22  0.255194  0.907800  0.306111        0.8870\n",
              "23  0.251238  0.909127  0.303647        0.8854\n",
              "24  0.247651  0.910055  0.304499        0.8924\n",
              "25  0.242891  0.911945  0.308949        0.8876\n",
              "26  0.238769  0.913673  0.298692        0.8954\n",
              "27  0.234381  0.915400  0.301928        0.8904\n",
              "28  0.230544  0.917200  0.295132        0.8930\n",
              "29  0.226661  0.918291  0.311748        0.8922"
            ],
            "text/html": [
              "\n",
              "  <div id=\"df-b02b501c-e59f-4e18-b2b1-091938f99496\">\n",
              "    <div class=\"colab-df-container\">\n",
              "      <div>\n",
              "<style scoped>\n",
              "    .dataframe tbody tr th:only-of-type {\n",
              "        vertical-align: middle;\n",
              "    }\n",
              "\n",
              "    .dataframe tbody tr th {\n",
              "        vertical-align: top;\n",
              "    }\n",
              "\n",
              "    .dataframe thead th {\n",
              "        text-align: right;\n",
              "    }\n",
              "</style>\n",
              "<table border=\"1\" class=\"dataframe\">\n",
              "  <thead>\n",
              "    <tr style=\"text-align: right;\">\n",
              "      <th></th>\n",
              "      <th>loss</th>\n",
              "      <th>accuracy</th>\n",
              "      <th>val_loss</th>\n",
              "      <th>val_accuracy</th>\n",
              "    </tr>\n",
              "  </thead>\n",
              "  <tbody>\n",
              "    <tr>\n",
              "      <th>0</th>\n",
              "      <td>0.704745</td>\n",
              "      <td>0.769873</td>\n",
              "      <td>0.489602</td>\n",
              "      <td>0.8384</td>\n",
              "    </tr>\n",
              "    <tr>\n",
              "      <th>1</th>\n",
              "      <td>0.483742</td>\n",
              "      <td>0.831200</td>\n",
              "      <td>0.454127</td>\n",
              "      <td>0.8466</td>\n",
              "    </tr>\n",
              "    <tr>\n",
              "      <th>2</th>\n",
              "      <td>0.439820</td>\n",
              "      <td>0.845582</td>\n",
              "      <td>0.434732</td>\n",
              "      <td>0.8448</td>\n",
              "    </tr>\n",
              "    <tr>\n",
              "      <th>3</th>\n",
              "      <td>0.413824</td>\n",
              "      <td>0.854709</td>\n",
              "      <td>0.402483</td>\n",
              "      <td>0.8594</td>\n",
              "    </tr>\n",
              "    <tr>\n",
              "      <th>4</th>\n",
              "      <td>0.393543</td>\n",
              "      <td>0.861400</td>\n",
              "      <td>0.384644</td>\n",
              "      <td>0.8688</td>\n",
              "    </tr>\n",
              "    <tr>\n",
              "      <th>5</th>\n",
              "      <td>0.377420</td>\n",
              "      <td>0.866073</td>\n",
              "      <td>0.380165</td>\n",
              "      <td>0.8706</td>\n",
              "    </tr>\n",
              "    <tr>\n",
              "      <th>6</th>\n",
              "      <td>0.364400</td>\n",
              "      <td>0.872345</td>\n",
              "      <td>0.375838</td>\n",
              "      <td>0.8684</td>\n",
              "    </tr>\n",
              "    <tr>\n",
              "      <th>7</th>\n",
              "      <td>0.353412</td>\n",
              "      <td>0.875800</td>\n",
              "      <td>0.378117</td>\n",
              "      <td>0.8672</td>\n",
              "    </tr>\n",
              "    <tr>\n",
              "      <th>8</th>\n",
              "      <td>0.344348</td>\n",
              "      <td>0.878127</td>\n",
              "      <td>0.351166</td>\n",
              "      <td>0.8742</td>\n",
              "    </tr>\n",
              "    <tr>\n",
              "      <th>9</th>\n",
              "      <td>0.333032</td>\n",
              "      <td>0.881818</td>\n",
              "      <td>0.348063</td>\n",
              "      <td>0.8776</td>\n",
              "    </tr>\n",
              "    <tr>\n",
              "      <th>10</th>\n",
              "      <td>0.324841</td>\n",
              "      <td>0.883564</td>\n",
              "      <td>0.334782</td>\n",
              "      <td>0.8794</td>\n",
              "    </tr>\n",
              "    <tr>\n",
              "      <th>11</th>\n",
              "      <td>0.317310</td>\n",
              "      <td>0.886400</td>\n",
              "      <td>0.328463</td>\n",
              "      <td>0.8818</td>\n",
              "    </tr>\n",
              "    <tr>\n",
              "      <th>12</th>\n",
              "      <td>0.311871</td>\n",
              "      <td>0.888109</td>\n",
              "      <td>0.333389</td>\n",
              "      <td>0.8816</td>\n",
              "    </tr>\n",
              "    <tr>\n",
              "      <th>13</th>\n",
              "      <td>0.303509</td>\n",
              "      <td>0.892491</td>\n",
              "      <td>0.320590</td>\n",
              "      <td>0.8866</td>\n",
              "    </tr>\n",
              "    <tr>\n",
              "      <th>14</th>\n",
              "      <td>0.297308</td>\n",
              "      <td>0.892836</td>\n",
              "      <td>0.319746</td>\n",
              "      <td>0.8892</td>\n",
              "    </tr>\n",
              "    <tr>\n",
              "      <th>15</th>\n",
              "      <td>0.290576</td>\n",
              "      <td>0.895891</td>\n",
              "      <td>0.345258</td>\n",
              "      <td>0.8806</td>\n",
              "    </tr>\n",
              "    <tr>\n",
              "      <th>16</th>\n",
              "      <td>0.285760</td>\n",
              "      <td>0.896945</td>\n",
              "      <td>0.307190</td>\n",
              "      <td>0.8908</td>\n",
              "    </tr>\n",
              "    <tr>\n",
              "      <th>17</th>\n",
              "      <td>0.280065</td>\n",
              "      <td>0.899073</td>\n",
              "      <td>0.309915</td>\n",
              "      <td>0.8880</td>\n",
              "    </tr>\n",
              "    <tr>\n",
              "      <th>18</th>\n",
              "      <td>0.274784</td>\n",
              "      <td>0.901491</td>\n",
              "      <td>0.308255</td>\n",
              "      <td>0.8884</td>\n",
              "    </tr>\n",
              "    <tr>\n",
              "      <th>19</th>\n",
              "      <td>0.271145</td>\n",
              "      <td>0.901964</td>\n",
              "      <td>0.308727</td>\n",
              "      <td>0.8902</td>\n",
              "    </tr>\n",
              "    <tr>\n",
              "      <th>20</th>\n",
              "      <td>0.265016</td>\n",
              "      <td>0.904145</td>\n",
              "      <td>0.315611</td>\n",
              "      <td>0.8848</td>\n",
              "    </tr>\n",
              "    <tr>\n",
              "      <th>21</th>\n",
              "      <td>0.259539</td>\n",
              "      <td>0.906927</td>\n",
              "      <td>0.317161</td>\n",
              "      <td>0.8882</td>\n",
              "    </tr>\n",
              "    <tr>\n",
              "      <th>22</th>\n",
              "      <td>0.255194</td>\n",
              "      <td>0.907800</td>\n",
              "      <td>0.306111</td>\n",
              "      <td>0.8870</td>\n",
              "    </tr>\n",
              "    <tr>\n",
              "      <th>23</th>\n",
              "      <td>0.251238</td>\n",
              "      <td>0.909127</td>\n",
              "      <td>0.303647</td>\n",
              "      <td>0.8854</td>\n",
              "    </tr>\n",
              "    <tr>\n",
              "      <th>24</th>\n",
              "      <td>0.247651</td>\n",
              "      <td>0.910055</td>\n",
              "      <td>0.304499</td>\n",
              "      <td>0.8924</td>\n",
              "    </tr>\n",
              "    <tr>\n",
              "      <th>25</th>\n",
              "      <td>0.242891</td>\n",
              "      <td>0.911945</td>\n",
              "      <td>0.308949</td>\n",
              "      <td>0.8876</td>\n",
              "    </tr>\n",
              "    <tr>\n",
              "      <th>26</th>\n",
              "      <td>0.238769</td>\n",
              "      <td>0.913673</td>\n",
              "      <td>0.298692</td>\n",
              "      <td>0.8954</td>\n",
              "    </tr>\n",
              "    <tr>\n",
              "      <th>27</th>\n",
              "      <td>0.234381</td>\n",
              "      <td>0.915400</td>\n",
              "      <td>0.301928</td>\n",
              "      <td>0.8904</td>\n",
              "    </tr>\n",
              "    <tr>\n",
              "      <th>28</th>\n",
              "      <td>0.230544</td>\n",
              "      <td>0.917200</td>\n",
              "      <td>0.295132</td>\n",
              "      <td>0.8930</td>\n",
              "    </tr>\n",
              "    <tr>\n",
              "      <th>29</th>\n",
              "      <td>0.226661</td>\n",
              "      <td>0.918291</td>\n",
              "      <td>0.311748</td>\n",
              "      <td>0.8922</td>\n",
              "    </tr>\n",
              "  </tbody>\n",
              "</table>\n",
              "</div>\n",
              "      <button class=\"colab-df-convert\" onclick=\"convertToInteractive('df-b02b501c-e59f-4e18-b2b1-091938f99496')\"\n",
              "              title=\"Convert this dataframe to an interactive table.\"\n",
              "              style=\"display:none;\">\n",
              "        \n",
              "  <svg xmlns=\"http://www.w3.org/2000/svg\" height=\"24px\"viewBox=\"0 0 24 24\"\n",
              "       width=\"24px\">\n",
              "    <path d=\"M0 0h24v24H0V0z\" fill=\"none\"/>\n",
              "    <path d=\"M18.56 5.44l.94 2.06.94-2.06 2.06-.94-2.06-.94-.94-2.06-.94 2.06-2.06.94zm-11 1L8.5 8.5l.94-2.06 2.06-.94-2.06-.94L8.5 2.5l-.94 2.06-2.06.94zm10 10l.94 2.06.94-2.06 2.06-.94-2.06-.94-.94-2.06-.94 2.06-2.06.94z\"/><path d=\"M17.41 7.96l-1.37-1.37c-.4-.4-.92-.59-1.43-.59-.52 0-1.04.2-1.43.59L10.3 9.45l-7.72 7.72c-.78.78-.78 2.05 0 2.83L4 21.41c.39.39.9.59 1.41.59.51 0 1.02-.2 1.41-.59l7.78-7.78 2.81-2.81c.8-.78.8-2.07 0-2.86zM5.41 20L4 18.59l7.72-7.72 1.47 1.35L5.41 20z\"/>\n",
              "  </svg>\n",
              "      </button>\n",
              "      \n",
              "  <style>\n",
              "    .colab-df-container {\n",
              "      display:flex;\n",
              "      flex-wrap:wrap;\n",
              "      gap: 12px;\n",
              "    }\n",
              "\n",
              "    .colab-df-convert {\n",
              "      background-color: #E8F0FE;\n",
              "      border: none;\n",
              "      border-radius: 50%;\n",
              "      cursor: pointer;\n",
              "      display: none;\n",
              "      fill: #1967D2;\n",
              "      height: 32px;\n",
              "      padding: 0 0 0 0;\n",
              "      width: 32px;\n",
              "    }\n",
              "\n",
              "    .colab-df-convert:hover {\n",
              "      background-color: #E2EBFA;\n",
              "      box-shadow: 0px 1px 2px rgba(60, 64, 67, 0.3), 0px 1px 3px 1px rgba(60, 64, 67, 0.15);\n",
              "      fill: #174EA6;\n",
              "    }\n",
              "\n",
              "    [theme=dark] .colab-df-convert {\n",
              "      background-color: #3B4455;\n",
              "      fill: #D2E3FC;\n",
              "    }\n",
              "\n",
              "    [theme=dark] .colab-df-convert:hover {\n",
              "      background-color: #434B5C;\n",
              "      box-shadow: 0px 1px 3px 1px rgba(0, 0, 0, 0.15);\n",
              "      filter: drop-shadow(0px 1px 2px rgba(0, 0, 0, 0.3));\n",
              "      fill: #FFFFFF;\n",
              "    }\n",
              "  </style>\n",
              "\n",
              "      <script>\n",
              "        const buttonEl =\n",
              "          document.querySelector('#df-b02b501c-e59f-4e18-b2b1-091938f99496 button.colab-df-convert');\n",
              "        buttonEl.style.display =\n",
              "          google.colab.kernel.accessAllowed ? 'block' : 'none';\n",
              "\n",
              "        async function convertToInteractive(key) {\n",
              "          const element = document.querySelector('#df-b02b501c-e59f-4e18-b2b1-091938f99496');\n",
              "          const dataTable =\n",
              "            await google.colab.kernel.invokeFunction('convertToInteractive',\n",
              "                                                     [key], {});\n",
              "          if (!dataTable) return;\n",
              "\n",
              "          const docLinkHtml = 'Like what you see? Visit the ' +\n",
              "            '<a target=\"_blank\" href=https://colab.research.google.com/notebooks/data_table.ipynb>data table notebook</a>'\n",
              "            + ' to learn more about interactive tables.';\n",
              "          element.innerHTML = '';\n",
              "          dataTable['output_type'] = 'display_data';\n",
              "          await google.colab.output.renderOutput(dataTable, element);\n",
              "          const docLink = document.createElement('div');\n",
              "          docLink.innerHTML = docLinkHtml;\n",
              "          element.appendChild(docLink);\n",
              "        }\n",
              "      </script>\n",
              "    </div>\n",
              "  </div>\n",
              "  "
            ]
          },
          "metadata": {},
          "execution_count": 29
        }
      ]
    },
    {
      "cell_type": "code",
      "source": [
        "metrics.plot(figsize=(8,5))\n",
        "plt.grid(True)\n",
        "plt.gca().set_ylim(0, 1)\n",
        "plt.show()"
      ],
      "metadata": {
        "colab": {
          "base_uri": "https://localhost:8080/",
          "height": 451
        },
        "id": "RPTfDJ3Dd9jo",
        "outputId": "9d89e2c5-c750-47ba-f571-747c67ebdd63"
      },
      "execution_count": 34,
      "outputs": [
        {
          "output_type": "display_data",
          "data": {
            "text/plain": [
              "<Figure size 800x500 with 1 Axes>"
            ],
            "image/png": "[encoded data removed]"
          },
          "metadata": {}
        }
      ]
    },
    {
      "cell_type": "code",
      "source": [
        "model.evaluate(X_test, y_test)"
      ],
      "metadata": {
        "colab": {
          "base_uri": "https://localhost:8080/"
        },
        "id": "ZFdDoHWXgVpm",
        "outputId": "fc85f46f-6e25-4f97-8d88-6b88c6a04bda"
      },
      "execution_count": 39,
      "outputs": [
        {
          "output_type": "stream",
          "name": "stdout",
          "text": [
            "313/313 [==============================] - 1s 3ms/step - loss: 0.3450 - accuracy: 0.8792\n"
          ]
        },
        {
          "output_type": "execute_result",
          "data": {
            "text/plain": [
              "[0.34504276514053345, 0.8791999816894531]"
            ]
          },
          "metadata": {},
          "execution_count": 39
        }
      ]
    },
    {
      "cell_type": "code",
      "source": [
        "X_new = X_test[:3]\n",
        "predict_proba = model.predict(X_new)\n",
        "predict_proba"
      ],
      "metadata": {
        "colab": {
          "base_uri": "https://localhost:8080/"
        },
        "id": "VOPDuNx6hK99",
        "outputId": "61eb144f-72ba-4096-c530-8159215276da"
      },
      "execution_count": 42,
      "outputs": [
        {
          "output_type": "stream",
          "name": "stdout",
          "text": [
            "1/1 [==============================] - 0s 49ms/step\n"
          ]
        },
        {
          "output_type": "execute_result",
          "data": {
            "text/plain": [
              "array([[1.1862755e-06, 4.3938329e-08, 6.7331866e-06, 1.4392899e-07,\n",
              "        3.0724111e-06, 3.8523572e-03, 6.0832517e-06, 1.6986053e-02,\n",
              "        1.7319998e-04, 9.7897112e-01],\n",
              "       [5.0751787e-05, 6.7863626e-10, 9.9416095e-01, 1.9757300e-08,\n",
              "        5.6976504e-03, 4.7460847e-13, 9.0664515e-05, 1.1994016e-12,\n",
              "        1.7778795e-08, 5.2409521e-11],\n",
              "       [8.5269653e-07, 9.9999809e-01, 3.0589209e-07, 1.2231094e-07,\n",
              "        2.2108270e-07, 2.4915246e-12, 2.5352815e-09, 3.0837326e-11,\n",
              "        3.4611446e-07, 1.2452414e-12]], dtype=float32)"
            ]
          },
          "metadata": {},
          "execution_count": 42
        }
      ]
    },
    {
      "cell_type": "code",
      "source": [
        "predict_proba.round(2)"
      ],
      "metadata": {
        "colab": {
          "base_uri": "https://localhost:8080/"
        },
        "id": "_7cffF0DhdUb",
        "outputId": "5bbcdd60-305e-4433-b79c-2f4603c2367f"
      },
      "execution_count": 52,
      "outputs": [
        {
          "output_type": "execute_result",
          "data": {
            "text/plain": [
              "array([[0.  , 0.  , 0.  , 0.  , 0.  , 0.  , 0.  , 0.02, 0.  , 0.98],\n",
              "       [0.  , 0.  , 0.99, 0.  , 0.01, 0.  , 0.  , 0.  , 0.  , 0.  ],\n",
              "       [0.  , 1.  , 0.  , 0.  , 0.  , 0.  , 0.  , 0.  , 0.  , 0.  ]],\n",
              "      dtype=float32)"
            ]
          },
          "metadata": {},
          "execution_count": 52
        }
      ]
    },
    {
      "cell_type": "code",
      "source": [
        "y_test[:3]"
      ],
      "metadata": {
        "colab": {
          "base_uri": "https://localhost:8080/"
        },
        "id": "v7xi_StzjAXE",
        "outputId": "77627d38-04f8-4ef6-9130-a1be36e540bb"
      },
      "execution_count": 53,
      "outputs": [
        {
          "output_type": "execute_result",
          "data": {
            "text/plain": [
              "array([9, 2, 1], dtype=uint8)"
            ]
          },
          "metadata": {},
          "execution_count": 53
        }
      ]
    },
    {
      "cell_type": "code",
      "source": [],
      "metadata": {
        "id": "JwE-sHUMje4M"
      },
      "execution_count": null,
      "outputs": []
    }
  ]
}