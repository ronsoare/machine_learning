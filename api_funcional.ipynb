{
  "nbformat": 4,
  "nbformat_minor": 0,
  "metadata": {
    "colab": {
      "provenance": [],
      "authorship_tag": "ABX9TyPw/ayJ1T+cf61cduOGWn8t",
      "include_colab_link": true
    },
    "kernelspec": {
      "name": "python3",
      "display_name": "Python 3"
    },
    "language_info": {
      "name": "python"
    }
  },
  "cells": [
    {
      "cell_type": "markdown",
      "metadata": {
        "id": "view-in-github",
        "colab_type": "text"
      },
      "source": [
        "<a href=\"https://colab.research.google.com/github/nars95/machine_learning/blob/main/api_funcional.ipynb\" target=\"_parent\"><img src=\"https://colab.research.google.com/assets/colab-badge.svg\" alt=\"Open In Colab\"/></a>"
      ]
    },
    {
      "cell_type": "code",
      "execution_count": 29,
      "metadata": {
        "id": "UJSlvnx1mBE8"
      },
      "outputs": [],
      "source": [
        "import tensorflow as tf\n",
        "from tensorflow import keras\n",
        "from sklearn.datasets import fetch_california_housing\n",
        "import matplotlib.pyplot as plt\n",
        "import pandas as pd\n",
        "import numpy as np\n",
        "from sklearn.model_selection import train_test_split\n",
        "from sklearn.preprocessing import StandardScaler"
      ]
    },
    {
      "cell_type": "code",
      "source": [
        "housing = fetch_california_housing()\n",
        "print(housing.keys(), type(housing))"
      ],
      "metadata": {
        "colab": {
          "base_uri": "https://localhost:8080/"
        },
        "id": "hUbM6W9vqIB4",
        "outputId": "607cd397-4705-4692-b0fc-64699a94552a"
      },
      "execution_count": 27,
      "outputs": [
        {
          "output_type": "stream",
          "name": "stdout",
          "text": [
            "dict_keys(['data', 'target', 'frame', 'target_names', 'feature_names', 'DESCR']) <class 'sklearn.utils._bunch.Bunch'>\n"
          ]
        }
      ]
    },
    {
      "cell_type": "markdown",
      "source": [
        "Separando os dados em treino, teste e validação."
      ],
      "metadata": {
        "id": "brK4UqxTsXoJ"
      }
    },
    {
      "cell_type": "code",
      "source": [
        "X_train_full, X_test, y_train_full, y_test = train_test_split(housing.data, housing.target)\n",
        "X_train, X_val, y_train, y_val = train_test_split(X_train_full, y_train_full)"
      ],
      "metadata": {
        "id": "tzRR2GcQrT8J"
      },
      "execution_count": 58,
      "outputs": []
    },
    {
      "cell_type": "markdown",
      "source": [
        "Escalonando as dados"
      ],
      "metadata": {
        "id": "3oHlAH4FsTkY"
      }
    },
    {
      "cell_type": "code",
      "source": [
        "scaler = StandardScaler()"
      ],
      "metadata": {
        "id": "Y-IB-HXWsTrv"
      },
      "execution_count": 59,
      "outputs": []
    },
    {
      "cell_type": "code",
      "source": [
        "X_train = scaler.fit_transform(X_train)\n",
        "X_val = scaler.fit_transform(X_val)\n",
        "X_test = scaler.fit_transform(X_test)"
      ],
      "metadata": {
        "id": "_xf6iFLPsTuf"
      },
      "execution_count": 60,
      "outputs": []
    },
    {
      "cell_type": "markdown",
      "source": [
        "#Treinando o model\n",
        "##1. Usando a Api funcional do keras"
      ],
      "metadata": {
        "id": "lGSMapHCtXRB"
      }
    },
    {
      "cell_type": "code",
      "source": [
        "from keras.api._v2.keras import activations\n",
        "input_ = keras.layers.Input(shape=X_train.shape[1:])\n",
        "layer1 = keras.layers.Dense(30, activation='relu')(input_)\n",
        "layer2 = keras.layers.Dense(30, activation='relu')(layer1)\n",
        "concat = keras.layers.Concatenate()([input_, layer2])\n",
        "output = keras.layers.Dense(1)(concat)\n",
        "model = keras.Model(inputs=[input_], outputs=[output])"
      ],
      "metadata": {
        "id": "_lOtdQhFsT2H"
      },
      "execution_count": 45,
      "outputs": []
    },
    {
      "cell_type": "code",
      "source": [
        "model.summary()"
      ],
      "metadata": {
        "colab": {
          "base_uri": "https://localhost:8080/"
        },
        "id": "ZeN3JK0rt0hm",
        "outputId": "193bd048-f37d-48ca-ebba-aabfb5a71dd6"
      },
      "execution_count": 46,
      "outputs": [
        {
          "output_type": "stream",
          "name": "stdout",
          "text": [
            "Model: \"model\"\n",
            "__________________________________________________________________________________________________\n",
            " Layer (type)                   Output Shape         Param #     Connected to                     \n",
            "==================================================================================================\n",
            " input_3 (InputLayer)           [(None, 8)]          0           []                               \n",
            "                                                                                                  \n",
            " dense_5 (Dense)                (None, 30)           270         ['input_3[0][0]']                \n",
            "                                                                                                  \n",
            " dense_6 (Dense)                (None, 30)           930         ['dense_5[0][0]']                \n",
            "                                                                                                  \n",
            " concatenate_1 (Concatenate)    (None, 38)           0           ['input_3[0][0]',                \n",
            "                                                                  'dense_6[0][0]']                \n",
            "                                                                                                  \n",
            " dense_7 (Dense)                (None, 1)            39          ['concatenate_1[0][0]']          \n",
            "                                                                                                  \n",
            "==================================================================================================\n",
            "Total params: 1,239\n",
            "Trainable params: 1,239\n",
            "Non-trainable params: 0\n",
            "__________________________________________________________________________________________________\n"
          ]
        }
      ]
    },
    {
      "cell_type": "code",
      "source": [
        "img = keras.utils.plot_model(model)\n",
        "img"
      ],
      "metadata": {
        "colab": {
          "base_uri": "https://localhost:8080/",
          "height": 466
        },
        "id": "IBOw9QRhvjXQ",
        "outputId": "6ea72024-bdf2-469f-e968-932dfbd784d5"
      },
      "execution_count": 48,
      "outputs": [
        {
          "output_type": "execute_result",
          "data": {
            "image/png": "[encoded data removed]",
            "text/plain": [
              "<IPython.core.display.Image object>"
            ]
          },
          "metadata": {},
          "execution_count": 48
        }
      ]
    },
    {
      "cell_type": "markdown",
      "source": [
        "##2. Usando a Api com arquitetura com várias entradas e várias saídas."
      ],
      "metadata": {
        "id": "2C7_IhQBxSiG"
      }
    },
    {
      "cell_type": "code",
      "source": [
        "input_A = keras.layers.Input(shape=[5], name='wide_input')\n",
        "input_B = keras.layers.Input(shape=[6], name='deep_input')\n",
        "hidden1= keras.layers.Dense(30, activation='relu')(input_B)\n",
        "hidden2 = keras.layers.Dense(30, activation='relu')(hidden1)\n",
        "concat = keras.layers.concatenate([input_A, hidden2])\n",
        "output = keras.layers.Dense(1, name='output')(concat)\n",
        "model = keras.Model(inputs=[input_A, input_B], outputs=[output])"
      ],
      "metadata": {
        "id": "vc4wZMkTxeLA"
      },
      "execution_count": 61,
      "outputs": []
    },
    {
      "cell_type": "code",
      "source": [
        "keras.utils.plot_model(model)"
      ],
      "metadata": {
        "colab": {
          "base_uri": "https://localhost:8080/",
          "height": 466
        },
        "id": "jHVVzjrh1_61",
        "outputId": "96e50c64-e4bf-447b-992f-04eedfc9c1bb"
      },
      "execution_count": 62,
      "outputs": [
        {
          "output_type": "execute_result",
          "data": {
            "image/png": "[encoded data removed]",
            "text/plain": [
              "<IPython.core.display.Image object>"
            ]
          },
          "metadata": {},
          "execution_count": 62
        }
      ]
    },
    {
      "cell_type": "code",
      "source": [
        "model.compile(loss='mse', optimizer=keras.optimizers.SGD(lr=1e-3),\n",
        "              metrics=['accuracy'])"
      ],
      "metadata": {
        "colab": {
          "base_uri": "https://localhost:8080/"
        },
        "id": "0i6Jf6_NyiTP",
        "outputId": "bcf7bfb7-a410-478e-808c-9610c7c6c346"
      },
      "execution_count": 74,
      "outputs": [
        {
          "output_type": "stream",
          "name": "stderr",
          "text": [
            "WARNING:absl:`lr` is deprecated in Keras optimizer, please use `learning_rate` or use the legacy optimizer, e.g.,tf.keras.optimizers.legacy.SGD.\n"
          ]
        }
      ]
    },
    {
      "cell_type": "code",
      "source": [
        "X_train_A, X_train_B = X_train[:, :5], X_train[:, 2:]\n",
        "X_val_A, X_val_B = X_val[:,:5], X_val[:,2:]\n",
        "X_test_A, X_test_B = X_test[:, :5], X_test[:,2:]"
      ],
      "metadata": {
        "id": "Ydwk03dAzLs-"
      },
      "execution_count": 64,
      "outputs": []
    },
    {
      "cell_type": "code",
      "source": [
        "X_new_A, X_new_B = X_test[:3], X_test[:3]"
      ],
      "metadata": {
        "id": "sggoLK4zzLvm"
      },
      "execution_count": 65,
      "outputs": []
    },
    {
      "cell_type": "code",
      "source": [
        "history = model.fit(\n",
        "    (X_train_A, X_train_B), y_train, epochs=20,\n",
        "    validation_data=( (X_val_A, X_val_B), y_val)\n",
        ")"
      ],
      "metadata": {
        "colab": {
          "base_uri": "https://localhost:8080/"
        },
        "id": "l6VSglYN0HGB",
        "outputId": "779b0728-be5f-4771-bdec-51295844b1cd"
      },
      "execution_count": 75,
      "outputs": [
        {
          "output_type": "stream",
          "name": "stdout",
          "text": [
            "Epoch 1/20\n",
            "363/363 [==============================] - 2s 3ms/step - loss: 0.3261 - accuracy: 0.0030 - val_loss: 0.5230 - val_accuracy: 0.0031\n",
            "Epoch 2/20\n",
            "363/363 [==============================] - 1s 3ms/step - loss: 0.3226 - accuracy: 0.0030 - val_loss: 0.5180 - val_accuracy: 0.0031\n",
            "Epoch 3/20\n",
            "363/363 [==============================] - 1s 4ms/step - loss: 0.3231 - accuracy: 0.0030 - val_loss: 0.5458 - val_accuracy: 0.0031\n",
            "Epoch 4/20\n",
            "363/363 [==============================] - 1s 3ms/step - loss: 0.3203 - accuracy: 0.0030 - val_loss: 0.5258 - val_accuracy: 0.0031\n",
            "Epoch 5/20\n",
            "363/363 [==============================] - 1s 2ms/step - loss: 0.3217 - accuracy: 0.0030 - val_loss: 0.5152 - val_accuracy: 0.0031\n",
            "Epoch 6/20\n",
            "363/363 [==============================] - 1s 3ms/step - loss: 0.3199 - accuracy: 0.0030 - val_loss: 0.4985 - val_accuracy: 0.0031\n",
            "Epoch 7/20\n",
            "363/363 [==============================] - 1s 3ms/step - loss: 0.3178 - accuracy: 0.0030 - val_loss: 0.5080 - val_accuracy: 0.0031\n",
            "Epoch 8/20\n",
            "363/363 [==============================] - 1s 3ms/step - loss: 0.3179 - accuracy: 0.0030 - val_loss: 0.5079 - val_accuracy: 0.0031\n",
            "Epoch 9/20\n",
            "363/363 [==============================] - 1s 3ms/step - loss: 0.3172 - accuracy: 0.0030 - val_loss: 0.5331 - val_accuracy: 0.0031\n",
            "Epoch 10/20\n",
            "363/363 [==============================] - 1s 2ms/step - loss: 0.3190 - accuracy: 0.0030 - val_loss: 0.5344 - val_accuracy: 0.0031\n",
            "Epoch 11/20\n",
            "363/363 [==============================] - 1s 2ms/step - loss: 0.3154 - accuracy: 0.0030 - val_loss: 0.5647 - val_accuracy: 0.0031\n",
            "Epoch 12/20\n",
            "363/363 [==============================] - 1s 3ms/step - loss: 0.3151 - accuracy: 0.0030 - val_loss: 0.5381 - val_accuracy: 0.0031\n",
            "Epoch 13/20\n",
            "363/363 [==============================] - 1s 2ms/step - loss: 0.3168 - accuracy: 0.0030 - val_loss: 0.5231 - val_accuracy: 0.0031\n",
            "Epoch 14/20\n",
            "363/363 [==============================] - 1s 3ms/step - loss: 0.3135 - accuracy: 0.0030 - val_loss: 0.5269 - val_accuracy: 0.0031\n",
            "Epoch 15/20\n",
            "363/363 [==============================] - 1s 4ms/step - loss: 0.3142 - accuracy: 0.0030 - val_loss: 0.5928 - val_accuracy: 0.0031\n",
            "Epoch 16/20\n",
            "363/363 [==============================] - 1s 4ms/step - loss: 0.3129 - accuracy: 0.0030 - val_loss: 0.5370 - val_accuracy: 0.0031\n",
            "Epoch 17/20\n",
            "363/363 [==============================] - 1s 2ms/step - loss: 0.3125 - accuracy: 0.0029 - val_loss: 0.4860 - val_accuracy: 0.0031\n",
            "Epoch 18/20\n",
            "363/363 [==============================] - 1s 2ms/step - loss: 0.3117 - accuracy: 0.0030 - val_loss: 0.5068 - val_accuracy: 0.0031\n",
            "Epoch 19/20\n",
            "363/363 [==============================] - 3s 9ms/step - loss: 0.3106 - accuracy: 0.0030 - val_loss: 0.5934 - val_accuracy: 0.0031\n",
            "Epoch 20/20\n",
            "363/363 [==============================] - 1s 2ms/step - loss: 0.3106 - accuracy: 0.0030 - val_loss: 0.5422 - val_accuracy: 0.0031\n"
          ]
        }
      ]
    },
    {
      "cell_type": "code",
      "source": [
        "curves = pd.DataFrame(history.history)"
      ],
      "metadata": {
        "id": "scodU1wM0HH1"
      },
      "execution_count": 76,
      "outputs": []
    },
    {
      "cell_type": "code",
      "source": [
        "curves.plot(figsize=(8,6))\n",
        "plt.grid(True)\n",
        "plt.gca().set_ylim(0, 1)\n",
        "plt.show()\n"
      ],
      "metadata": {
        "colab": {
          "base_uri": "https://localhost:8080/",
          "height": 508
        },
        "id": "I0knEfoa0HKD",
        "outputId": "eb83dc3d-845f-455a-fd40-84b2fda9d384"
      },
      "execution_count": 77,
      "outputs": [
        {
          "output_type": "display_data",
          "data": {
            "text/plain": [
              "<Figure size 800x600 with 1 Axes>"
            ],
            "image/png": "[encoded data removed]"
          },
          "metadata": {}
        }
      ]
    },
    {
      "cell_type": "code",
      "source": [
        "model.evaluate((X_test_A, X_test_B), y_test)"
      ],
      "metadata": {
        "colab": {
          "base_uri": "https://localhost:8080/"
        },
        "id": "2WdmSHfH3h5N",
        "outputId": "91c22add-389f-4db5-dba1-a90f773806c0"
      },
      "execution_count": 78,
      "outputs": [
        {
          "output_type": "stream",
          "name": "stdout",
          "text": [
            "162/162 [==============================] - 1s 4ms/step - loss: 0.3720 - accuracy: 0.0027\n"
          ]
        },
        {
          "output_type": "execute_result",
          "data": {
            "text/plain": [
              "[0.3720352053642273, 0.0027131782844662666]"
            ]
          },
          "metadata": {},
          "execution_count": 78
        }
      ]
    },
    {
      "cell_type": "code",
      "source": [
        "input_A = keras.layers.Input(shape=[5], name='wide_input')\n",
        "input_B = keras.layers.Input(shape=[6], name='deep_input')\n",
        "hidden1= keras.layers.Dense(30, activation='relu')(input_B)\n",
        "hidden2 = keras.layers.Dense(30, activation='relu')(hidden1)\n",
        "concat = keras.layers.concatenate([input_A, hidden2])\n",
        "output = keras.layers.Dense(1, name='main_output')(concat)\n",
        "aux_output = keras.layers.Dense(1, name='aux_output')(hidden2)\n",
        "model = keras.Model(inputs=[input_A, input_B], outputs=[output])"
      ],
      "metadata": {
        "id": "naN552qO3h7U"
      },
      "execution_count": 79,
      "outputs": []
    },
    {
      "cell_type": "code",
      "source": [],
      "metadata": {
        "id": "rzhMUnFV3h9V"
      },
      "execution_count": null,
      "outputs": []
    }
  ]
}